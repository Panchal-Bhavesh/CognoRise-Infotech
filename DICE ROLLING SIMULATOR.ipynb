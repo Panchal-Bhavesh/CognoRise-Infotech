{
 "cells": [
  {
   "cell_type": "code",
   "execution_count": 1,
   "id": "84a6c62d",
   "metadata": {},
   "outputs": [
    {
     "name": "stdout",
     "output_type": "stream",
     "text": [
      "Enter the number of sides on the dice: 6\n",
      "Enter the number of rolls: 5\n",
      "Rolling 5 6-sided dice:\n",
      "Roll 1: 6\n",
      "Roll 2: 5\n",
      "Roll 3: 2\n",
      "Roll 4: 5\n",
      "Roll 5: 5\n"
     ]
    }
   ],
   "source": [
    "import random\n",
    "\n",
    "def roll_dice(num_sides, num_rolls):\n",
    "    print(f\"Rolling {num_rolls} {num_sides}-sided dice:\")\n",
    "    for i in range(1, num_rolls + 1):\n",
    "        result = random.randint(1, num_sides)\n",
    "        print(f\"Roll {i}: {result}\")\n",
    "\n",
    "def main():\n",
    "    num_sides = int(input(\"Enter the number of sides on the dice: \"))\n",
    "    num_rolls = int(input(\"Enter the number of rolls: \"))\n",
    "    roll_dice(num_sides, num_rolls)\n",
    "\n",
    "if __name__ == \"__main__\":\n",
    "    main()"
   ]
  },
  {
   "cell_type": "code",
   "execution_count": 2,
   "id": "17f414df",
   "metadata": {},
   "outputs": [],
   "source": [
    "import tkinter as tk"
   ]
  },
  {
   "cell_type": "code",
   "execution_count": 3,
   "id": "b191f595",
   "metadata": {},
   "outputs": [],
   "source": [
    "from PIL import Image, ImageTk"
   ]
  },
  {
   "cell_type": "code",
   "execution_count": 4,
   "id": "7c4f2cde",
   "metadata": {},
   "outputs": [],
   "source": [
    "import random"
   ]
  },
  {
   "cell_type": "code",
   "execution_count": null,
   "id": "1ba8ea75",
   "metadata": {},
   "outputs": [],
   "source": [
    "window = tk.Tk()\n",
    "window.geometry(\"500x360\")\n",
    "window.title(\"Dice Roll\")\n",
    "\n",
    "dice=[\"dice1.png\",\"dice2.png\",\"dice3.png\",\"dice4.png\",\"dice5.png\",\"dice6.png\"]\n",
    "image1 = ImageTk.PhotoImage(Image.open(random.choice(dice)))\n",
    "image2 = ImageTk.PhotoImage(Image.open(random.choice(dice)))\n",
    "\n",
    "label1= tk.Label(window,image=image1)\n",
    "label2= tk.Label(window,image=image2)\n",
    "\n",
    "label1.image = image1\n",
    "label2.image = image2\n",
    "\n",
    "label1.place(x = 40, y = 100 )\n",
    "label2.place(x = 300, y = 100)\n",
    "\n",
    "def dice_roll():\n",
    "    image1 = ImageTk.PhotoImage(Image.open(random.choice(dice)))\n",
    "    label1.configure(image = image1)\n",
    "    label1.image = image1\n",
    "    \n",
    "    image2 = ImageTk.PhotoImage(Image.open(random.choice(dice)))\n",
    "    label2.configure(image = image2)\n",
    "    label2.image = image2\n",
    "button = tk.Button(window,text=\"ROLL\", bg = \"green\", fg = \"white\", font=\"Times 20 bold\", command=dice_roll)\n",
    "button.place(x=200, y=0)\n",
    "window.mainloop()"
   ]
  },
  {
   "cell_type": "code",
   "execution_count": null,
   "id": "2a22e453",
   "metadata": {},
   "outputs": [],
   "source": []
  }
 ],
 "metadata": {
  "kernelspec": {
   "display_name": "Python 3 (ipykernel)",
   "language": "python",
   "name": "python3"
  },
  "language_info": {
   "codemirror_mode": {
    "name": "ipython",
    "version": 3
   },
   "file_extension": ".py",
   "mimetype": "text/x-python",
   "name": "python",
   "nbconvert_exporter": "python",
   "pygments_lexer": "ipython3",
   "version": "3.11.4"
  }
 },
 "nbformat": 4,
 "nbformat_minor": 5
}
