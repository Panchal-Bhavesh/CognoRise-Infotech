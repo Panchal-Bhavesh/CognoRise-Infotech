{
 "cells": [
  {
   "cell_type": "code",
   "execution_count": 1,
   "id": "68eca8cc",
   "metadata": {},
   "outputs": [],
   "source": [
    "import pandas as pd"
   ]
  },
  {
   "cell_type": "code",
   "execution_count": 2,
   "id": "6e933f02",
   "metadata": {},
   "outputs": [
    {
     "data": {
      "text/html": [
       "<div>\n",
       "<style scoped>\n",
       "    .dataframe tbody tr th:only-of-type {\n",
       "        vertical-align: middle;\n",
       "    }\n",
       "\n",
       "    .dataframe tbody tr th {\n",
       "        vertical-align: top;\n",
       "    }\n",
       "\n",
       "    .dataframe thead th {\n",
       "        text-align: right;\n",
       "    }\n",
       "</style>\n",
       "<table border=\"1\" class=\"dataframe\">\n",
       "  <thead>\n",
       "    <tr style=\"text-align: right;\">\n",
       "      <th></th>\n",
       "      <th>date</th>\n",
       "      <th>price</th>\n",
       "      <th>bedrooms</th>\n",
       "      <th>bathrooms</th>\n",
       "      <th>sqft_living</th>\n",
       "      <th>sqft_lot</th>\n",
       "      <th>floors</th>\n",
       "      <th>waterfront</th>\n",
       "      <th>view</th>\n",
       "      <th>condition</th>\n",
       "      <th>sqft_above</th>\n",
       "      <th>sqft_basement</th>\n",
       "      <th>yr_built</th>\n",
       "      <th>yr_renovated</th>\n",
       "      <th>street</th>\n",
       "      <th>city</th>\n",
       "      <th>statezip</th>\n",
       "      <th>country</th>\n",
       "    </tr>\n",
       "  </thead>\n",
       "  <tbody>\n",
       "    <tr>\n",
       "      <th>0</th>\n",
       "      <td>2014-05-02 00:00:00</td>\n",
       "      <td>3.130000e+05</td>\n",
       "      <td>3.0</td>\n",
       "      <td>1.50</td>\n",
       "      <td>1340</td>\n",
       "      <td>7912</td>\n",
       "      <td>1.5</td>\n",
       "      <td>0</td>\n",
       "      <td>0</td>\n",
       "      <td>3</td>\n",
       "      <td>1340</td>\n",
       "      <td>0</td>\n",
       "      <td>1955</td>\n",
       "      <td>2005</td>\n",
       "      <td>18810 Densmore Ave N</td>\n",
       "      <td>Shoreline</td>\n",
       "      <td>WA 98133</td>\n",
       "      <td>USA</td>\n",
       "    </tr>\n",
       "    <tr>\n",
       "      <th>1</th>\n",
       "      <td>2014-05-02 00:00:00</td>\n",
       "      <td>2.384000e+06</td>\n",
       "      <td>5.0</td>\n",
       "      <td>2.50</td>\n",
       "      <td>3650</td>\n",
       "      <td>9050</td>\n",
       "      <td>2.0</td>\n",
       "      <td>0</td>\n",
       "      <td>4</td>\n",
       "      <td>5</td>\n",
       "      <td>3370</td>\n",
       "      <td>280</td>\n",
       "      <td>1921</td>\n",
       "      <td>0</td>\n",
       "      <td>709 W Blaine St</td>\n",
       "      <td>Seattle</td>\n",
       "      <td>WA 98119</td>\n",
       "      <td>USA</td>\n",
       "    </tr>\n",
       "    <tr>\n",
       "      <th>2</th>\n",
       "      <td>2014-05-02 00:00:00</td>\n",
       "      <td>3.420000e+05</td>\n",
       "      <td>3.0</td>\n",
       "      <td>2.00</td>\n",
       "      <td>1930</td>\n",
       "      <td>11947</td>\n",
       "      <td>1.0</td>\n",
       "      <td>0</td>\n",
       "      <td>0</td>\n",
       "      <td>4</td>\n",
       "      <td>1930</td>\n",
       "      <td>0</td>\n",
       "      <td>1966</td>\n",
       "      <td>0</td>\n",
       "      <td>26206-26214 143rd Ave SE</td>\n",
       "      <td>Kent</td>\n",
       "      <td>WA 98042</td>\n",
       "      <td>USA</td>\n",
       "    </tr>\n",
       "    <tr>\n",
       "      <th>3</th>\n",
       "      <td>2014-05-02 00:00:00</td>\n",
       "      <td>4.200000e+05</td>\n",
       "      <td>3.0</td>\n",
       "      <td>2.25</td>\n",
       "      <td>2000</td>\n",
       "      <td>8030</td>\n",
       "      <td>1.0</td>\n",
       "      <td>0</td>\n",
       "      <td>0</td>\n",
       "      <td>4</td>\n",
       "      <td>1000</td>\n",
       "      <td>1000</td>\n",
       "      <td>1963</td>\n",
       "      <td>0</td>\n",
       "      <td>857 170th Pl NE</td>\n",
       "      <td>Bellevue</td>\n",
       "      <td>WA 98008</td>\n",
       "      <td>USA</td>\n",
       "    </tr>\n",
       "    <tr>\n",
       "      <th>4</th>\n",
       "      <td>2014-05-02 00:00:00</td>\n",
       "      <td>5.500000e+05</td>\n",
       "      <td>4.0</td>\n",
       "      <td>2.50</td>\n",
       "      <td>1940</td>\n",
       "      <td>10500</td>\n",
       "      <td>1.0</td>\n",
       "      <td>0</td>\n",
       "      <td>0</td>\n",
       "      <td>4</td>\n",
       "      <td>1140</td>\n",
       "      <td>800</td>\n",
       "      <td>1976</td>\n",
       "      <td>1992</td>\n",
       "      <td>9105 170th Ave NE</td>\n",
       "      <td>Redmond</td>\n",
       "      <td>WA 98052</td>\n",
       "      <td>USA</td>\n",
       "    </tr>\n",
       "    <tr>\n",
       "      <th>...</th>\n",
       "      <td>...</td>\n",
       "      <td>...</td>\n",
       "      <td>...</td>\n",
       "      <td>...</td>\n",
       "      <td>...</td>\n",
       "      <td>...</td>\n",
       "      <td>...</td>\n",
       "      <td>...</td>\n",
       "      <td>...</td>\n",
       "      <td>...</td>\n",
       "      <td>...</td>\n",
       "      <td>...</td>\n",
       "      <td>...</td>\n",
       "      <td>...</td>\n",
       "      <td>...</td>\n",
       "      <td>...</td>\n",
       "      <td>...</td>\n",
       "      <td>...</td>\n",
       "    </tr>\n",
       "    <tr>\n",
       "      <th>4595</th>\n",
       "      <td>2014-07-09 00:00:00</td>\n",
       "      <td>3.081667e+05</td>\n",
       "      <td>3.0</td>\n",
       "      <td>1.75</td>\n",
       "      <td>1510</td>\n",
       "      <td>6360</td>\n",
       "      <td>1.0</td>\n",
       "      <td>0</td>\n",
       "      <td>0</td>\n",
       "      <td>4</td>\n",
       "      <td>1510</td>\n",
       "      <td>0</td>\n",
       "      <td>1954</td>\n",
       "      <td>1979</td>\n",
       "      <td>501 N 143rd St</td>\n",
       "      <td>Seattle</td>\n",
       "      <td>WA 98133</td>\n",
       "      <td>USA</td>\n",
       "    </tr>\n",
       "    <tr>\n",
       "      <th>4596</th>\n",
       "      <td>2014-07-09 00:00:00</td>\n",
       "      <td>5.343333e+05</td>\n",
       "      <td>3.0</td>\n",
       "      <td>2.50</td>\n",
       "      <td>1460</td>\n",
       "      <td>7573</td>\n",
       "      <td>2.0</td>\n",
       "      <td>0</td>\n",
       "      <td>0</td>\n",
       "      <td>3</td>\n",
       "      <td>1460</td>\n",
       "      <td>0</td>\n",
       "      <td>1983</td>\n",
       "      <td>2009</td>\n",
       "      <td>14855 SE 10th Pl</td>\n",
       "      <td>Bellevue</td>\n",
       "      <td>WA 98007</td>\n",
       "      <td>USA</td>\n",
       "    </tr>\n",
       "    <tr>\n",
       "      <th>4597</th>\n",
       "      <td>2014-07-09 00:00:00</td>\n",
       "      <td>4.169042e+05</td>\n",
       "      <td>3.0</td>\n",
       "      <td>2.50</td>\n",
       "      <td>3010</td>\n",
       "      <td>7014</td>\n",
       "      <td>2.0</td>\n",
       "      <td>0</td>\n",
       "      <td>0</td>\n",
       "      <td>3</td>\n",
       "      <td>3010</td>\n",
       "      <td>0</td>\n",
       "      <td>2009</td>\n",
       "      <td>0</td>\n",
       "      <td>759 Ilwaco Pl NE</td>\n",
       "      <td>Renton</td>\n",
       "      <td>WA 98059</td>\n",
       "      <td>USA</td>\n",
       "    </tr>\n",
       "    <tr>\n",
       "      <th>4598</th>\n",
       "      <td>2014-07-10 00:00:00</td>\n",
       "      <td>2.034000e+05</td>\n",
       "      <td>4.0</td>\n",
       "      <td>2.00</td>\n",
       "      <td>2090</td>\n",
       "      <td>6630</td>\n",
       "      <td>1.0</td>\n",
       "      <td>0</td>\n",
       "      <td>0</td>\n",
       "      <td>3</td>\n",
       "      <td>1070</td>\n",
       "      <td>1020</td>\n",
       "      <td>1974</td>\n",
       "      <td>0</td>\n",
       "      <td>5148 S Creston St</td>\n",
       "      <td>Seattle</td>\n",
       "      <td>WA 98178</td>\n",
       "      <td>USA</td>\n",
       "    </tr>\n",
       "    <tr>\n",
       "      <th>4599</th>\n",
       "      <td>2014-07-10 00:00:00</td>\n",
       "      <td>2.206000e+05</td>\n",
       "      <td>3.0</td>\n",
       "      <td>2.50</td>\n",
       "      <td>1490</td>\n",
       "      <td>8102</td>\n",
       "      <td>2.0</td>\n",
       "      <td>0</td>\n",
       "      <td>0</td>\n",
       "      <td>4</td>\n",
       "      <td>1490</td>\n",
       "      <td>0</td>\n",
       "      <td>1990</td>\n",
       "      <td>0</td>\n",
       "      <td>18717 SE 258th St</td>\n",
       "      <td>Covington</td>\n",
       "      <td>WA 98042</td>\n",
       "      <td>USA</td>\n",
       "    </tr>\n",
       "  </tbody>\n",
       "</table>\n",
       "<p>4600 rows × 18 columns</p>\n",
       "</div>"
      ],
      "text/plain": [
       "                     date         price  bedrooms  bathrooms  sqft_living  \\\n",
       "0     2014-05-02 00:00:00  3.130000e+05       3.0       1.50         1340   \n",
       "1     2014-05-02 00:00:00  2.384000e+06       5.0       2.50         3650   \n",
       "2     2014-05-02 00:00:00  3.420000e+05       3.0       2.00         1930   \n",
       "3     2014-05-02 00:00:00  4.200000e+05       3.0       2.25         2000   \n",
       "4     2014-05-02 00:00:00  5.500000e+05       4.0       2.50         1940   \n",
       "...                   ...           ...       ...        ...          ...   \n",
       "4595  2014-07-09 00:00:00  3.081667e+05       3.0       1.75         1510   \n",
       "4596  2014-07-09 00:00:00  5.343333e+05       3.0       2.50         1460   \n",
       "4597  2014-07-09 00:00:00  4.169042e+05       3.0       2.50         3010   \n",
       "4598  2014-07-10 00:00:00  2.034000e+05       4.0       2.00         2090   \n",
       "4599  2014-07-10 00:00:00  2.206000e+05       3.0       2.50         1490   \n",
       "\n",
       "      sqft_lot  floors  waterfront  view  condition  sqft_above  \\\n",
       "0         7912     1.5           0     0          3        1340   \n",
       "1         9050     2.0           0     4          5        3370   \n",
       "2        11947     1.0           0     0          4        1930   \n",
       "3         8030     1.0           0     0          4        1000   \n",
       "4        10500     1.0           0     0          4        1140   \n",
       "...        ...     ...         ...   ...        ...         ...   \n",
       "4595      6360     1.0           0     0          4        1510   \n",
       "4596      7573     2.0           0     0          3        1460   \n",
       "4597      7014     2.0           0     0          3        3010   \n",
       "4598      6630     1.0           0     0          3        1070   \n",
       "4599      8102     2.0           0     0          4        1490   \n",
       "\n",
       "      sqft_basement  yr_built  yr_renovated                    street  \\\n",
       "0                 0      1955          2005      18810 Densmore Ave N   \n",
       "1               280      1921             0           709 W Blaine St   \n",
       "2                 0      1966             0  26206-26214 143rd Ave SE   \n",
       "3              1000      1963             0           857 170th Pl NE   \n",
       "4               800      1976          1992         9105 170th Ave NE   \n",
       "...             ...       ...           ...                       ...   \n",
       "4595              0      1954          1979            501 N 143rd St   \n",
       "4596              0      1983          2009          14855 SE 10th Pl   \n",
       "4597              0      2009             0          759 Ilwaco Pl NE   \n",
       "4598           1020      1974             0         5148 S Creston St   \n",
       "4599              0      1990             0         18717 SE 258th St   \n",
       "\n",
       "           city  statezip country  \n",
       "0     Shoreline  WA 98133     USA  \n",
       "1       Seattle  WA 98119     USA  \n",
       "2          Kent  WA 98042     USA  \n",
       "3      Bellevue  WA 98008     USA  \n",
       "4       Redmond  WA 98052     USA  \n",
       "...         ...       ...     ...  \n",
       "4595    Seattle  WA 98133     USA  \n",
       "4596   Bellevue  WA 98007     USA  \n",
       "4597     Renton  WA 98059     USA  \n",
       "4598    Seattle  WA 98178     USA  \n",
       "4599  Covington  WA 98042     USA  \n",
       "\n",
       "[4600 rows x 18 columns]"
      ]
     },
     "execution_count": 2,
     "metadata": {},
     "output_type": "execute_result"
    }
   ],
   "source": [
    "data = pd.read_csv('D:/data.csv')\n",
    "data"
   ]
  },
  {
   "cell_type": "code",
   "execution_count": 3,
   "id": "6b1916ee",
   "metadata": {},
   "outputs": [
    {
     "data": {
      "text/plain": [
       "date             0\n",
       "price            0\n",
       "bedrooms         0\n",
       "bathrooms        0\n",
       "sqft_living      0\n",
       "sqft_lot         0\n",
       "floors           0\n",
       "waterfront       0\n",
       "view             0\n",
       "condition        0\n",
       "sqft_above       0\n",
       "sqft_basement    0\n",
       "yr_built         0\n",
       "yr_renovated     0\n",
       "street           0\n",
       "city             0\n",
       "statezip         0\n",
       "country          0\n",
       "dtype: int64"
      ]
     },
     "execution_count": 3,
     "metadata": {},
     "output_type": "execute_result"
    }
   ],
   "source": [
    "missing_values = data.isna().sum()\n",
    "missing_values"
   ]
  },
  {
   "cell_type": "code",
   "execution_count": 4,
   "id": "5e7986d6",
   "metadata": {},
   "outputs": [],
   "source": [
    "from sklearn.preprocessing import LabelEncoder"
   ]
  },
  {
   "cell_type": "code",
   "execution_count": 5,
   "id": "37bd3ac8",
   "metadata": {},
   "outputs": [
    {
     "data": {
      "text/plain": [
       "0       36\n",
       "1       35\n",
       "2       18\n",
       "3        3\n",
       "4       31\n",
       "        ..\n",
       "4595    35\n",
       "4596     3\n",
       "4597    32\n",
       "4598    35\n",
       "4599     9\n",
       "Name: city, Length: 4600, dtype: int32"
      ]
     },
     "execution_count": 5,
     "metadata": {},
     "output_type": "execute_result"
    }
   ],
   "source": [
    "le=LabelEncoder()\n",
    "data['city']=le.fit_transform(data['city'])\n",
    "data['city']"
   ]
  },
  {
   "cell_type": "code",
   "execution_count": 6,
   "id": "008ecd83",
   "metadata": {},
   "outputs": [
    {
     "data": {
      "text/plain": [
       "array([[3.00e+00, 1.34e+03, 3.60e+01],\n",
       "       [5.00e+00, 3.65e+03, 3.50e+01],\n",
       "       [3.00e+00, 1.93e+03, 1.80e+01],\n",
       "       ...,\n",
       "       [3.00e+00, 3.01e+03, 3.20e+01],\n",
       "       [4.00e+00, 2.09e+03, 3.50e+01],\n",
       "       [3.00e+00, 1.49e+03, 9.00e+00]])"
      ]
     },
     "execution_count": 6,
     "metadata": {},
     "output_type": "execute_result"
    }
   ],
   "source": [
    "x = (data[['bedrooms','sqft_living','city']]).values\n",
    "x"
   ]
  },
  {
   "cell_type": "code",
   "execution_count": 7,
   "id": "b9b95d23",
   "metadata": {},
   "outputs": [
    {
     "data": {
      "text/plain": [
       "array([ 313000.      , 2384000.      ,  342000.      , ...,\n",
       "        416904.166667,  203400.      ,  220600.      ])"
      ]
     },
     "execution_count": 7,
     "metadata": {},
     "output_type": "execute_result"
    }
   ],
   "source": [
    "y=data['price'].values\n",
    "y"
   ]
  },
  {
   "cell_type": "code",
   "execution_count": 8,
   "id": "743c61d0",
   "metadata": {},
   "outputs": [],
   "source": [
    "from sklearn.model_selection import train_test_split"
   ]
  },
  {
   "cell_type": "code",
   "execution_count": 9,
   "id": "51d87ef5",
   "metadata": {},
   "outputs": [],
   "source": [
    "x_train, x_test, y_train, y_test = train_test_split(x,y,test_size=0.3,random_state=0)"
   ]
  },
  {
   "cell_type": "code",
   "execution_count": 10,
   "id": "08e24651",
   "metadata": {},
   "outputs": [
    {
     "data": {
      "text/plain": [
       "array([[3.00e+00, 2.09e+03, 9.00e+00],\n",
       "       [4.00e+00, 2.64e+03, 3.20e+01],\n",
       "       [1.00e+00, 6.50e+02, 1.80e+01],\n",
       "       ...,\n",
       "       [4.00e+00, 4.23e+03, 4.20e+01],\n",
       "       [4.00e+00, 1.53e+03, 3.50e+01],\n",
       "       [2.00e+00, 1.21e+03, 3.50e+01]])"
      ]
     },
     "execution_count": 10,
     "metadata": {},
     "output_type": "execute_result"
    }
   ],
   "source": [
    "x_test"
   ]
  },
  {
   "cell_type": "code",
   "execution_count": 11,
   "id": "c7aadfdb",
   "metadata": {},
   "outputs": [
    {
     "data": {
      "text/plain": [
       "array([289000.      , 429900.      , 129000.      , ..., 985000.      ,\n",
       "       135333.333333, 380000.      ])"
      ]
     },
     "execution_count": 11,
     "metadata": {},
     "output_type": "execute_result"
    }
   ],
   "source": [
    "y_test"
   ]
  },
  {
   "cell_type": "code",
   "execution_count": 12,
   "id": "5a9aafc5",
   "metadata": {},
   "outputs": [],
   "source": [
    "from sklearn.linear_model import LinearRegression"
   ]
  },
  {
   "cell_type": "code",
   "execution_count": 13,
   "id": "a901dc25",
   "metadata": {},
   "outputs": [
    {
     "data": {
      "text/plain": [
       "array([ 495061.02743569,  682542.65899012,  212174.9087644 , ...,\n",
       "       1174433.57496726,  373605.42834749,  381818.99340431])"
      ]
     },
     "execution_count": 13,
     "metadata": {},
     "output_type": "execute_result"
    }
   ],
   "source": [
    "lr=LinearRegression()\n",
    "model=lr.fit(x_train,y_train)\n",
    "y_prediction=model.predict(x_test)\n",
    "y_prediction"
   ]
  },
  {
   "cell_type": "code",
   "execution_count": 14,
   "id": "f1def4e1",
   "metadata": {},
   "outputs": [],
   "source": [
    "import numpy as np\n",
    "from sklearn.metrics import mean_squared_error"
   ]
  },
  {
   "cell_type": "code",
   "execution_count": 15,
   "id": "c7c88926",
   "metadata": {},
   "outputs": [
    {
     "name": "stdout",
     "output_type": "stream",
     "text": [
      "Linear Regression RMSE: 756185.0478526114\n"
     ]
    }
   ],
   "source": [
    "linear_reg_rmse = np.sqrt(mean_squared_error(y_test,y_prediction))\n",
    "linear_reg_rmse\n",
    "print(\"Linear Regression RMSE:\", linear_reg_rmse)"
   ]
  },
  {
   "cell_type": "code",
   "execution_count": 16,
   "id": "55bbcc8e",
   "metadata": {},
   "outputs": [],
   "source": [
    "from sklearn.ensemble import RandomForestRegressor"
   ]
  },
  {
   "cell_type": "code",
   "execution_count": 19,
   "id": "14e102af",
   "metadata": {},
   "outputs": [
    {
     "data": {
      "text/plain": [
       "array([356952.33333333, 543741.08888892, 194885.        , ...,\n",
       "       606565.9       , 416735.45384616, 403470.04503968])"
      ]
     },
     "execution_count": 19,
     "metadata": {},
     "output_type": "execute_result"
    }
   ],
   "source": [
    "rr = RandomForestRegressor()\n",
    "model2 = rr.fit(x_train,y_train)\n",
    "y_prediction2 = model2.predict(x_test)\n",
    "y_prediction2"
   ]
  },
  {
   "cell_type": "code",
   "execution_count": 21,
   "id": "cb04d33a",
   "metadata": {},
   "outputs": [
    {
     "name": "stdout",
     "output_type": "stream",
     "text": [
      "Random Forest Regression RMSE: 759137.0148551735\n"
     ]
    }
   ],
   "source": [
    "random_forest_rmse = np.sqrt(mean_squared_error(y_test, y_prediction2))\n",
    "random_forest_rmse\n",
    "print(\"Random Forest Regression RMSE:\", random_forest_rmse)"
   ]
  },
  {
   "cell_type": "code",
   "execution_count": 22,
   "id": "3d20fc76",
   "metadata": {},
   "outputs": [],
   "source": [
    "from sklearn.tree import DecisionTreeRegressor"
   ]
  },
  {
   "cell_type": "code",
   "execution_count": 23,
   "id": "859f5c7d",
   "metadata": {},
   "outputs": [
    {
     "data": {
      "text/plain": [
       "array([290000., 585000., 299000., ..., 405125., 352000., 401400.])"
      ]
     },
     "execution_count": 23,
     "metadata": {},
     "output_type": "execute_result"
    }
   ],
   "source": [
    "dr = DecisionTreeRegressor()\n",
    "model3 = dr.fit(x_train,y_train)\n",
    "y_prediction3 = model3.predict(x_test)\n",
    "y_prediction3"
   ]
  },
  {
   "cell_type": "code",
   "execution_count": 24,
   "id": "2b2f4de4",
   "metadata": {},
   "outputs": [
    {
     "name": "stdout",
     "output_type": "stream",
     "text": [
      "Decision Tree Regression RMSE: 778779.0553210351\n"
     ]
    }
   ],
   "source": [
    "decision_tree_rmse = np.sqrt(mean_squared_error(y_test, y_prediction3))\n",
    "decision_tree_rmse\n",
    "print(\"Decision Tree Regression RMSE:\", decision_tree_rmse)"
   ]
  },
  {
   "cell_type": "code",
   "execution_count": 25,
   "id": "be9a1874",
   "metadata": {},
   "outputs": [],
   "source": [
    "from sklearn.ensemble import GradientBoostingRegressor"
   ]
  },
  {
   "cell_type": "code",
   "execution_count": 26,
   "id": "b6aa199b",
   "metadata": {},
   "outputs": [
    {
     "data": {
      "text/plain": [
       "array([375452.41588412, 528295.64698152, 169654.50277014, ...,\n",
       "       800048.22045703, 452684.83360526, 408247.47569479])"
      ]
     },
     "execution_count": 26,
     "metadata": {},
     "output_type": "execute_result"
    }
   ],
   "source": [
    "gbr = GradientBoostingRegressor()\n",
    "model4 = gbr.fit(x_train,y_train)\n",
    "y_prediction4 = model4.predict(x_test)\n",
    "y_prediction4"
   ]
  },
  {
   "cell_type": "code",
   "execution_count": 27,
   "id": "8147c6b2",
   "metadata": {},
   "outputs": [
    {
     "name": "stdout",
     "output_type": "stream",
     "text": [
      "Gradient Boosting Regression RMSE: 748414.036750823\n"
     ]
    }
   ],
   "source": [
    "gradient_boosting_rmse = np.sqrt(mean_squared_error(y_test, y_prediction4))\n",
    "gradient_boosting_rmse\n",
    "print(\"Gradient Boosting Regression RMSE:\", gradient_boosting_rmse)"
   ]
  },
  {
   "cell_type": "code",
   "execution_count": 28,
   "id": "50c4fdce",
   "metadata": {},
   "outputs": [],
   "source": [
    "import matplotlib.pyplot as plt"
   ]
  },
  {
   "cell_type": "code",
   "execution_count": 29,
   "id": "f42ca7c3",
   "metadata": {},
   "outputs": [
    {
     "data": {
      "image/png": "[encoded data removed]",
      "text/plain": [
       "<Figure size 640x480 with 1 Axes>"
      ]
     },
     "metadata": {},
     "output_type": "display_data"
    }
   ],
   "source": [
    "plt.scatter(y_test, y_prediction)\n",
    "plt.xlabel(\"Actual Prices\")\n",
    "plt.ylabel(\"Predicted Prices\")\n",
    "plt.title(\"Actual Prices vs. Predicted Prices\")\n",
    "plt.show()"
   ]
  },
  {
   "cell_type": "code",
   "execution_count": null,
   "id": "7d7092c5",
   "metadata": {},
   "outputs": [],
   "source": []
  }
 ],
 "metadata": {
  "kernelspec": {
   "display_name": "Python 3 (ipykernel)",
   "language": "python",
   "name": "python3"
  },
  "language_info": {
   "codemirror_mode": {
    "name": "ipython",
    "version": 3
   },
   "file_extension": ".py",
   "mimetype": "text/x-python",
   "name": "python",
   "nbconvert_exporter": "python",
   "pygments_lexer": "ipython3",
   "version": "3.11.4"
  }
 },
 "nbformat": 4,
 "nbformat_minor": 5
}
